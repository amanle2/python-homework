{
 "cells": [
  {
   "cell_type": "markdown",
   "metadata": {},
   "source": [
    "# Python-HW: PyBank Financial Data Analysis\n",
    "## Alex Manley\n",
    "---"
   ]
  },
  {
   "cell_type": "code",
   "execution_count": 67,
   "metadata": {},
   "outputs": [],
   "source": [
    "# Import the necessary librarys\n",
    "\n",
    "import csv\n",
    "import pandas as pd"
   ]
  },
  {
   "cell_type": "code",
   "execution_count": 68,
   "metadata": {},
   "outputs": [
    {
     "data": {
      "text/html": [
       "<div>\n",
       "<style scoped>\n",
       "    .dataframe tbody tr th:only-of-type {\n",
       "        vertical-align: middle;\n",
       "    }\n",
       "\n",
       "    .dataframe tbody tr th {\n",
       "        vertical-align: top;\n",
       "    }\n",
       "\n",
       "    .dataframe thead th {\n",
       "        text-align: right;\n",
       "    }\n",
       "</style>\n",
       "<table border=\"1\" class=\"dataframe\">\n",
       "  <thead>\n",
       "    <tr style=\"text-align: right;\">\n",
       "      <th></th>\n",
       "      <th>Date</th>\n",
       "      <th>Profit/Losses</th>\n",
       "    </tr>\n",
       "  </thead>\n",
       "  <tbody>\n",
       "    <tr>\n",
       "      <th>0</th>\n",
       "      <td>Jan-2010</td>\n",
       "      <td>867884</td>\n",
       "    </tr>\n",
       "    <tr>\n",
       "      <th>1</th>\n",
       "      <td>Feb-2010</td>\n",
       "      <td>984655</td>\n",
       "    </tr>\n",
       "    <tr>\n",
       "      <th>2</th>\n",
       "      <td>Mar-2010</td>\n",
       "      <td>322013</td>\n",
       "    </tr>\n",
       "    <tr>\n",
       "      <th>3</th>\n",
       "      <td>Apr-2010</td>\n",
       "      <td>-69417</td>\n",
       "    </tr>\n",
       "    <tr>\n",
       "      <th>4</th>\n",
       "      <td>May-2010</td>\n",
       "      <td>310503</td>\n",
       "    </tr>\n",
       "  </tbody>\n",
       "</table>\n",
       "</div>"
      ],
      "text/plain": [
       "       Date  Profit/Losses\n",
       "0  Jan-2010         867884\n",
       "1  Feb-2010         984655\n",
       "2  Mar-2010         322013\n",
       "3  Apr-2010         -69417\n",
       "4  May-2010         310503"
      ]
     },
     "execution_count": 68,
     "metadata": {},
     "output_type": "execute_result"
    }
   ],
   "source": [
    "# Read .csv file into program using pd.read_csv\n",
    "budget_data_csv = pd.read_csv('budget_data.csv')\n",
    "budget_data_csv.head()    "
   ]
  },
  {
   "cell_type": "code",
   "execution_count": 69,
   "metadata": {},
   "outputs": [
    {
     "data": {
      "text/html": [
       "<div>\n",
       "<style scoped>\n",
       "    .dataframe tbody tr th:only-of-type {\n",
       "        vertical-align: middle;\n",
       "    }\n",
       "\n",
       "    .dataframe tbody tr th {\n",
       "        vertical-align: top;\n",
       "    }\n",
       "\n",
       "    .dataframe thead th {\n",
       "        text-align: right;\n",
       "    }\n",
       "</style>\n",
       "<table border=\"1\" class=\"dataframe\">\n",
       "  <thead>\n",
       "    <tr style=\"text-align: right;\">\n",
       "      <th></th>\n",
       "      <th>Date</th>\n",
       "      <th>Profit/Losses</th>\n",
       "    </tr>\n",
       "    <tr>\n",
       "      <th>Date</th>\n",
       "      <th></th>\n",
       "      <th></th>\n",
       "    </tr>\n",
       "  </thead>\n",
       "  <tbody>\n",
       "    <tr>\n",
       "      <th>2010-01-01</th>\n",
       "      <td>Jan-2010</td>\n",
       "      <td>867884</td>\n",
       "    </tr>\n",
       "    <tr>\n",
       "      <th>2010-02-01</th>\n",
       "      <td>Feb-2010</td>\n",
       "      <td>984655</td>\n",
       "    </tr>\n",
       "    <tr>\n",
       "      <th>2010-03-01</th>\n",
       "      <td>Mar-2010</td>\n",
       "      <td>322013</td>\n",
       "    </tr>\n",
       "    <tr>\n",
       "      <th>2010-04-01</th>\n",
       "      <td>Apr-2010</td>\n",
       "      <td>-69417</td>\n",
       "    </tr>\n",
       "    <tr>\n",
       "      <th>2010-05-01</th>\n",
       "      <td>May-2010</td>\n",
       "      <td>310503</td>\n",
       "    </tr>\n",
       "  </tbody>\n",
       "</table>\n",
       "</div>"
      ],
      "text/plain": [
       "                Date  Profit/Losses\n",
       "Date                               \n",
       "2010-01-01  Jan-2010         867884\n",
       "2010-02-01  Feb-2010         984655\n",
       "2010-03-01  Mar-2010         322013\n",
       "2010-04-01  Apr-2010         -69417\n",
       "2010-05-01  May-2010         310503"
      ]
     },
     "execution_count": 69,
     "metadata": {},
     "output_type": "execute_result"
    }
   ],
   "source": [
    "# Make the Date as the Index\n",
    "budget_data_csv.set_index(pd.to_datetime(budget_data_csv['Date'], infer_datetime_format = True), inplace=True)\n",
    "budget_data_csv.head()"
   ]
  },
  {
   "cell_type": "code",
   "execution_count": 70,
   "metadata": {},
   "outputs": [
    {
     "data": {
      "text/html": [
       "<div>\n",
       "<style scoped>\n",
       "    .dataframe tbody tr th:only-of-type {\n",
       "        vertical-align: middle;\n",
       "    }\n",
       "\n",
       "    .dataframe tbody tr th {\n",
       "        vertical-align: top;\n",
       "    }\n",
       "\n",
       "    .dataframe thead th {\n",
       "        text-align: right;\n",
       "    }\n",
       "</style>\n",
       "<table border=\"1\" class=\"dataframe\">\n",
       "  <thead>\n",
       "    <tr style=\"text-align: right;\">\n",
       "      <th></th>\n",
       "      <th>Date</th>\n",
       "      <th>Profit/Losses</th>\n",
       "      <th>Monthly Profit Change</th>\n",
       "    </tr>\n",
       "    <tr>\n",
       "      <th>Date</th>\n",
       "      <th></th>\n",
       "      <th></th>\n",
       "      <th></th>\n",
       "    </tr>\n",
       "  </thead>\n",
       "  <tbody>\n",
       "    <tr>\n",
       "      <th>2010-01-01</th>\n",
       "      <td>Jan-2010</td>\n",
       "      <td>867884</td>\n",
       "      <td>NaN</td>\n",
       "    </tr>\n",
       "    <tr>\n",
       "      <th>2010-02-01</th>\n",
       "      <td>Feb-2010</td>\n",
       "      <td>984655</td>\n",
       "      <td>116771.0</td>\n",
       "    </tr>\n",
       "    <tr>\n",
       "      <th>2010-03-01</th>\n",
       "      <td>Mar-2010</td>\n",
       "      <td>322013</td>\n",
       "      <td>-662642.0</td>\n",
       "    </tr>\n",
       "    <tr>\n",
       "      <th>2010-04-01</th>\n",
       "      <td>Apr-2010</td>\n",
       "      <td>-69417</td>\n",
       "      <td>-391430.0</td>\n",
       "    </tr>\n",
       "    <tr>\n",
       "      <th>2010-05-01</th>\n",
       "      <td>May-2010</td>\n",
       "      <td>310503</td>\n",
       "      <td>379920.0</td>\n",
       "    </tr>\n",
       "  </tbody>\n",
       "</table>\n",
       "</div>"
      ],
      "text/plain": [
       "                Date  Profit/Losses  Monthly Profit Change\n",
       "Date                                                      \n",
       "2010-01-01  Jan-2010         867884                    NaN\n",
       "2010-02-01  Feb-2010         984655               116771.0\n",
       "2010-03-01  Mar-2010         322013              -662642.0\n",
       "2010-04-01  Apr-2010         -69417              -391430.0\n",
       "2010-05-01  May-2010         310503               379920.0"
      ]
     },
     "execution_count": 70,
     "metadata": {},
     "output_type": "execute_result"
    }
   ],
   "source": [
    "# Add column to track monthly changes in profits\n",
    "budget_data_csv[\"Monthly Profit Change\"] = budget_data_csv[\"Profit/Losses\"] - budget_data_csv[\"Profit/Losses\"].shift(1)\n",
    "budget_data_csv.head()\n"
   ]
  },
  {
   "cell_type": "code",
   "execution_count": 71,
   "metadata": {},
   "outputs": [
    {
     "data": {
      "text/html": [
       "<div>\n",
       "<style scoped>\n",
       "    .dataframe tbody tr th:only-of-type {\n",
       "        vertical-align: middle;\n",
       "    }\n",
       "\n",
       "    .dataframe tbody tr th {\n",
       "        vertical-align: top;\n",
       "    }\n",
       "\n",
       "    .dataframe thead th {\n",
       "        text-align: right;\n",
       "    }\n",
       "</style>\n",
       "<table border=\"1\" class=\"dataframe\">\n",
       "  <thead>\n",
       "    <tr style=\"text-align: right;\">\n",
       "      <th></th>\n",
       "      <th>Date</th>\n",
       "      <th>Profit/Losses</th>\n",
       "      <th>Monthly Profit Change</th>\n",
       "    </tr>\n",
       "    <tr>\n",
       "      <th>Date</th>\n",
       "      <th></th>\n",
       "      <th></th>\n",
       "      <th></th>\n",
       "    </tr>\n",
       "  </thead>\n",
       "  <tbody>\n",
       "    <tr>\n",
       "      <th>2010-01-01</th>\n",
       "      <td>Jan-2010</td>\n",
       "      <td>867884</td>\n",
       "      <td>0.0</td>\n",
       "    </tr>\n",
       "    <tr>\n",
       "      <th>2010-02-01</th>\n",
       "      <td>Feb-2010</td>\n",
       "      <td>984655</td>\n",
       "      <td>116771.0</td>\n",
       "    </tr>\n",
       "    <tr>\n",
       "      <th>2010-03-01</th>\n",
       "      <td>Mar-2010</td>\n",
       "      <td>322013</td>\n",
       "      <td>-662642.0</td>\n",
       "    </tr>\n",
       "    <tr>\n",
       "      <th>2010-04-01</th>\n",
       "      <td>Apr-2010</td>\n",
       "      <td>-69417</td>\n",
       "      <td>-391430.0</td>\n",
       "    </tr>\n",
       "    <tr>\n",
       "      <th>2010-05-01</th>\n",
       "      <td>May-2010</td>\n",
       "      <td>310503</td>\n",
       "      <td>379920.0</td>\n",
       "    </tr>\n",
       "  </tbody>\n",
       "</table>\n",
       "</div>"
      ],
      "text/plain": [
       "                Date  Profit/Losses  Monthly Profit Change\n",
       "Date                                                      \n",
       "2010-01-01  Jan-2010         867884                    0.0\n",
       "2010-02-01  Feb-2010         984655               116771.0\n",
       "2010-03-01  Mar-2010         322013              -662642.0\n",
       "2010-04-01  Apr-2010         -69417              -391430.0\n",
       "2010-05-01  May-2010         310503               379920.0"
      ]
     },
     "execution_count": 71,
     "metadata": {},
     "output_type": "execute_result"
    }
   ],
   "source": [
    "# Fill in null value for first month\n",
    "budget_data_csv['Monthly Profit Change'] = budget_data_csv['Monthly Profit Change'].fillna(0)\n",
    "budget_data_csv.head()"
   ]
  },
  {
   "cell_type": "code",
   "execution_count": 72,
   "metadata": {},
   "outputs": [
    {
     "name": "stdout",
     "output_type": "stream",
     "text": [
      "86\n"
     ]
    }
   ],
   "source": [
    "# Define a count formula for the number of months in the Date Index\n",
    "Total_Months = str(budget_data_csv.shape[0])\n",
    "print(Total_Months)"
   ]
  },
  {
   "cell_type": "code",
   "execution_count": 73,
   "metadata": {},
   "outputs": [
    {
     "name": "stdout",
     "output_type": "stream",
     "text": [
      "38382578\n"
     ]
    }
   ],
   "source": [
    "# Define the total profits over entire period\n",
    "Total_Profits = sum(budget_data_csv['Profit/Losses'])\n",
    "print(Total_Profits)"
   ]
  },
  {
   "cell_type": "code",
   "execution_count": 74,
   "metadata": {},
   "outputs": [
    {
     "name": "stdout",
     "output_type": "stream",
     "text": [
      "-2315.0\n"
     ]
    }
   ],
   "source": [
    "# Define the average monthly profit change\n",
    "Average_Change = round(sum(budget_data_csv['Monthly Profit Change']) / (len(budget_data_csv['Monthly Profit Change']) - 1), 0)\n",
    "print(Average_Change)"
   ]
  },
  {
   "cell_type": "code",
   "execution_count": 75,
   "metadata": {},
   "outputs": [
    {
     "name": "stdout",
     "output_type": "stream",
     "text": [
      "1926159.0\n"
     ]
    }
   ],
   "source": [
    "# Define the Greatest Increase in Profits\n",
    "Max_Increase = max(budget_data_csv['Monthly Profit Change'])\n",
    "print(Max_Increase)"
   ]
  },
  {
   "cell_type": "code",
   "execution_count": 76,
   "metadata": {},
   "outputs": [
    {
     "name": "stdout",
     "output_type": "stream",
     "text": [
      "2012-02-01 00:00:00\n"
     ]
    }
   ],
   "source": [
    "# Return the index value that generates the max\n",
    "Max_Increase_Date = budget_data_csv['Monthly Profit Change'].idxmax()\n",
    "print(Max_Increase_Date)"
   ]
  },
  {
   "cell_type": "code",
   "execution_count": 77,
   "metadata": {},
   "outputs": [
    {
     "name": "stdout",
     "output_type": "stream",
     "text": [
      "-2196167.0\n"
     ]
    }
   ],
   "source": [
    "# Define the Greatest Decrease in Profits\n",
    "Max_Decrease = min(budget_data_csv['Monthly Profit Change'])\n",
    "print(Max_Decrease)"
   ]
  },
  {
   "cell_type": "code",
   "execution_count": 78,
   "metadata": {},
   "outputs": [
    {
     "name": "stdout",
     "output_type": "stream",
     "text": [
      "2013-09-01 00:00:00\n"
     ]
    }
   ],
   "source": [
    "# Return the index value that generates the min\n",
    "Max_Decrease_Date = budget_data_csv['Monthly Profit Change'].idxmin()\n",
    "print(Max_Decrease_Date)"
   ]
  },
  {
   "cell_type": "code",
   "execution_count": 79,
   "metadata": {},
   "outputs": [
    {
     "name": "stdout",
     "output_type": "stream",
     "text": [
      "Financial Analysis\n",
      "----------------------------\n",
      "Total Months:  86\n",
      "Total: $ 38382578\n",
      "Average Change: $ -2315.0\n",
      "Greatest Increase in Profits:  2012-02-01 00:00:00 ($ 1926159.0 )\n",
      "Greatest Decrease in Profits:  2013-09-01 00:00:00 ($ -2196167.0 )\n"
     ]
    }
   ],
   "source": [
    "# Define formula to print the results\n",
    "Combined_Financial_Analysis = print(\"Financial Analysis\")\n",
    "print(\"----------------------------\")\n",
    "print(\"Total Months: \", Total_Months)\n",
    "print(\"Total: $\", Total_Profits)\n",
    "print(\"Average Change: $\", Average_Change)\n",
    "print(\"Greatest Increase in Profits: \", Max_Increase_Date, \"($\", Max_Increase, \")\")\n",
    "print(\"Greatest Decrease in Profits: \", Max_Decrease_Date, \"($\", Max_Decrease, \")\")\n"
   ]
  },
  {
   "cell_type": "code",
   "execution_count": 80,
   "metadata": {},
   "outputs": [],
   "source": [
    "# Define multiple lines of combined text and Variables\n",
    "def Line_1():\n",
    "    print(\"Financial Analysis\")\n",
    "    return \"Financial Analysis \\n\"\n",
    "\n",
    "def Line_2():\n",
    "    print(\"----------------------------\")\n",
    "    return \"---------------------------- \\n\"\n",
    "\n",
    "def Line_3():\n",
    "    print(\"Total Months: \", Total_Months)\n",
    "    return \"Total Months: \", str(Total_Months), \"\\n\"\n",
    "\n",
    "def Line_4():\n",
    "    print(\"Total: $\", Total_Profits)\n",
    "    return \"Total: $\", str(Total_Profits), \"\\n\"\n",
    "\n",
    "def Line_5():\n",
    "    print(\"Average Change: $\", Average_Change)\n",
    "    return \"Average Change: $\", str(Average_Change), \"\\n\"\n",
    "\n",
    "def Line_6():\n",
    "    print(\"Greatest Increase in Profits: \", Max_Increase_Date, \"($\", Max_Increase, \")\")\n",
    "    return \"Greatest Increase in Profits: \", str(Max_Increase_Date), \"($\", str(Max_Increase), \")\", \"\\n\"\n",
    "    \n",
    "def Line_7():\n",
    "    print(\"Greatest Decrease in Profits: \", Max_Decrease_Date, \"($\", Max_Decrease, \")\")\n",
    "    return \"Greatest Decrease in Profits: \", str(Max_Decrease_Date), \"($\", str(Max_Decrease), \")\", \"\\n\"\n",
    "    \n",
    "    "
   ]
  },
  {
   "cell_type": "code",
   "execution_count": 81,
   "metadata": {},
   "outputs": [
    {
     "name": "stdout",
     "output_type": "stream",
     "text": [
      "Total Months:  86\n"
     ]
    },
    {
     "data": {
      "text/plain": [
       "'Total Months: 86\\n'"
      ]
     },
     "execution_count": 81,
     "metadata": {},
     "output_type": "execute_result"
    }
   ],
   "source": [
    "# Concatenating multiple strings into single string\n",
    "def Line_3_Concat(Line_3):\n",
    "    Line_3_Concat = ''.join(Line_3())\n",
    "    return Line_3_Concat\n",
    "\n",
    "Line_3_Concat(Line_3)"
   ]
  },
  {
   "cell_type": "code",
   "execution_count": 82,
   "metadata": {},
   "outputs": [
    {
     "name": "stdout",
     "output_type": "stream",
     "text": [
      "Total: $ 38382578\n"
     ]
    },
    {
     "data": {
      "text/plain": [
       "'Total: $38382578\\n'"
      ]
     },
     "execution_count": 82,
     "metadata": {},
     "output_type": "execute_result"
    }
   ],
   "source": [
    "# Concatenating multiple strings into single string\n",
    "def Line_4_Concat(Line_4):\n",
    "    Line_4_Concat = ''.join(Line_4())\n",
    "    return Line_4_Concat\n",
    "\n",
    "Line_4_Concat(Line_4)"
   ]
  },
  {
   "cell_type": "code",
   "execution_count": 83,
   "metadata": {},
   "outputs": [
    {
     "name": "stdout",
     "output_type": "stream",
     "text": [
      "Average Change: $ -2315.0\n"
     ]
    },
    {
     "data": {
      "text/plain": [
       "'Average Change: $-2315.0\\n'"
      ]
     },
     "execution_count": 83,
     "metadata": {},
     "output_type": "execute_result"
    }
   ],
   "source": [
    "# Concatenating multiple strings into single string\n",
    "def Line_5_Concat(Line_5):\n",
    "    Line_5_Concat = ''.join(Line_5())\n",
    "    return Line_5_Concat\n",
    "\n",
    "Line_5_Concat(Line_5)"
   ]
  },
  {
   "cell_type": "code",
   "execution_count": 84,
   "metadata": {},
   "outputs": [
    {
     "name": "stdout",
     "output_type": "stream",
     "text": [
      "Greatest Increase in Profits:  2012-02-01 00:00:00 ($ 1926159.0 )\n"
     ]
    },
    {
     "data": {
      "text/plain": [
       "'Greatest Increase in Profits: 2012-02-01 00:00:00($1926159.0)\\n'"
      ]
     },
     "execution_count": 84,
     "metadata": {},
     "output_type": "execute_result"
    }
   ],
   "source": [
    "# Concatenating multiple strings into single string\n",
    "def Line_6_Concat(Line_6):\n",
    "    Line_6_Concat = ''.join(Line_6())\n",
    "    return Line_6_Concat\n",
    "\n",
    "Line_6_Concat(Line_6)"
   ]
  },
  {
   "cell_type": "code",
   "execution_count": 85,
   "metadata": {},
   "outputs": [
    {
     "name": "stdout",
     "output_type": "stream",
     "text": [
      "Greatest Decrease in Profits:  2013-09-01 00:00:00 ($ -2196167.0 )\n"
     ]
    },
    {
     "data": {
      "text/plain": [
       "'Greatest Decrease in Profits: 2013-09-01 00:00:00($-2196167.0)\\n'"
      ]
     },
     "execution_count": 85,
     "metadata": {},
     "output_type": "execute_result"
    }
   ],
   "source": [
    "# Concatenating multiple strings into single string\n",
    "def Line_7_Concat(Line_7):\n",
    "    Line_7_Concat = ''.join(Line_7())\n",
    "    return Line_7_Concat\n",
    "\n",
    "Line_7_Concat(Line_7)"
   ]
  },
  {
   "cell_type": "code",
   "execution_count": 86,
   "metadata": {},
   "outputs": [],
   "source": [
    "# Combine the individual lines of text into one block of text\n",
    "def combined_text():\n",
    "    L1 = Line_1()\n",
    "    L2 = Line_2()\n",
    "    L3 = Line_3()\n",
    "    L4 = Line_4()\n",
    "    L5 = Line_5()\n",
    "    L6 = Line_6()\n",
    "    L7 = Line_7()\n",
    "    return (L1, L2, L3, L4, L5, L6, L7)"
   ]
  },
  {
   "cell_type": "code",
   "execution_count": 87,
   "metadata": {},
   "outputs": [
    {
     "name": "stdout",
     "output_type": "stream",
     "text": [
      "Financial Analysis\n",
      "----------------------------\n",
      "Total Months:  86\n",
      "Total: $ 38382578\n",
      "Average Change: $ -2315.0\n",
      "Greatest Increase in Profits:  2012-02-01 00:00:00 ($ 1926159.0 )\n",
      "Greatest Decrease in Profits:  2013-09-01 00:00:00 ($ -2196167.0 )\n"
     ]
    },
    {
     "data": {
      "text/plain": [
       "('Financial Analysis \\n', '---------------------------- \\n', ('Total Months: ', '86', '\\n'), ('Total: $', '38382578', '\\n'), ('Average Change: $', '-2315.0', '\\n'), ('Greatest Increase in Profits: ', '2012-02-01 00:00:00', '($', '1926159.0', ')', '\\n'), ('Greatest Decrease in Profits: ', '2013-09-01 00:00:00', '($', '-2196167.0', ')', '\\n'))"
      ]
     },
     "execution_count": 87,
     "metadata": {},
     "output_type": "execute_result"
    }
   ],
   "source": [
    "# Check to see that the combined_text() formula is functioning\n",
    "combined_text()"
   ]
  },
  {
   "cell_type": "code",
   "execution_count": 90,
   "metadata": {},
   "outputs": [
    {
     "name": "stdout",
     "output_type": "stream",
     "text": [
      "Financial Analysis\n",
      "----------------------------\n",
      "Total Months:  86\n",
      "Total: $ 38382578\n",
      "Average Change: $ -2315.0\n",
      "Greatest Increase in Profits:  2012-02-01 00:00:00 ($ 1926159.0 )\n",
      "Greatest Decrease in Profits:  2013-09-01 00:00:00 ($ -2196167.0 )\n"
     ]
    }
   ],
   "source": [
    "# This is the auto-file writer.  It sends the lines to the PyBank Financial Analysis.txt file\n",
    "\n",
    "with open('PyBank Financial Analysis.txt', 'w') as file:\n",
    "    file.write(Line_1())\n",
    "\n",
    "with open('PyBank Financial Analysis.txt', 'a') as file:\n",
    "    file.write(Line_2())\n",
    "\n",
    "with open('PyBank Financial Analysis.txt', 'a') as file:\n",
    "    file.write(Line_3_Concat(Line_3))\n",
    "    \n",
    "with open('PyBank Financial Analysis.txt', 'a') as file:\n",
    "    file.write(Line_4_Concat(Line_4))\n",
    "    \n",
    "with open('PyBank Financial Analysis.txt', 'a') as file:\n",
    "    file.write(Line_5_Concat(Line_5))\n",
    "    \n",
    "with open('PyBank Financial Analysis.txt', 'a') as file:\n",
    "    file.write(Line_6_Concat(Line_6))\n",
    "    \n",
    "with open('PyBank Financial Analysis.txt', 'a') as file:\n",
    "    file.write(Line_7_Concat(Line_7))\n"
   ]
  },
  {
   "cell_type": "code",
   "execution_count": 91,
   "metadata": {},
   "outputs": [
    {
     "name": "stdout",
     "output_type": "stream",
     "text": [
      "Financial Analysis\n",
      "----------------------------\n",
      "Total Months:  86\n",
      "Total: $ 38382578\n",
      "Average Change: $ -2315.0\n",
      "Greatest Increase in Profits:  2012-02-01 00:00:00 ($ 1926159.0 )\n",
      "Greatest Decrease in Profits:  2013-09-01 00:00:00 ($ -2196167.0 )\n"
     ]
    }
   ],
   "source": [
    "print(\"Financial Analysis\")\n",
    "print(\"----------------------------\")\n",
    "print(\"Total Months: \", Total_Months)\n",
    "print(\"Total: $\", Total_Profits)\n",
    "print(\"Average Change: $\", Average_Change)\n",
    "print(\"Greatest Increase in Profits: \", Max_Increase_Date, \"($\", Max_Increase, \")\")\n",
    "print(\"Greatest Decrease in Profits: \", Max_Decrease_Date, \"($\", Max_Decrease, \")\")"
   ]
  },
  {
   "cell_type": "code",
   "execution_count": null,
   "metadata": {},
   "outputs": [],
   "source": []
  },
  {
   "cell_type": "code",
   "execution_count": null,
   "metadata": {},
   "outputs": [],
   "source": []
  }
 ],
 "metadata": {
  "kernelspec": {
   "display_name": "Python 3.7 (XPython)",
   "language": "python",
   "name": "xpython"
  },
  "language_info": {
   "file_extension": ".py",
   "mimetype": "text/x-python",
   "name": "python",
   "version": "3.7.9"
  }
 },
 "nbformat": 4,
 "nbformat_minor": 5
}
